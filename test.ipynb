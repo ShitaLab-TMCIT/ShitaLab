{
 "cells": [
  {
   "cell_type": "markdown",
   "metadata": {},
   "source": [
    "# md to txt"
   ]
  },
  {
   "cell_type": "code",
   "execution_count": 1,
   "metadata": {},
   "outputs": [
    {
     "name": "stdout",
     "output_type": "stream",
     "text": [
      "Renamed: ./public/md/sample2.md -> ./public/md/sample2.txt\n",
      "Renamed: ./public/md/sample4.md -> ./public/md/sample4.txt\n",
      "Renamed: ./public/md/test/sample5.md -> ./public/md/test/sample5.txt\n",
      "Renamed: ./public/md/test/sample1.md -> ./public/md/test/sample1.txt\n",
      "Renamed: ./public/md/test/sample3.md -> ./public/md/test/sample3.txt\n",
      "Renamed: ./public/md/test/test2/sample7.md -> ./public/md/test/test2/sample7.txt\n",
      "Renamed: ./public/md/test/test2/test3/sample8.md -> ./public/md/test/test2/test3/sample8.txt\n",
      "Renamed: ./public/md/test/test2/test3/test4/sample9.md -> ./public/md/test/test2/test3/test4/sample9.txt\n",
      "All .md files have been renamed to .txt\n"
     ]
    }
   ],
   "source": [
    "import os\n",
    "\n",
    "def rename_md_to_txt(directory):\n",
    "    # ディレクトリ内のファイルとサブディレクトリを再帰的に処理\n",
    "    for root, dirs, files in os.walk(directory):\n",
    "        for file in files:\n",
    "            # ファイルが .md で終わる場合\n",
    "            if file.endswith(\".md\"):\n",
    "                md_file_path = os.path.join(root, file)\n",
    "                txt_file_path = os.path.join(root, file[:-3] + \".txt\")  # 拡張子を .txt に変更\n",
    "                os.rename(md_file_path, txt_file_path)  # ファイル名を変更\n",
    "                print(f\"Renamed: {md_file_path} -> {txt_file_path}\")\n",
    "\n",
    "if __name__ == \"__main__\":\n",
    "    # 処理したいディレクトリのパス\n",
    "    directory_to_scan = \"./public/md/\"\n",
    "    \n",
    "    # .md ファイルを .txt にリネーム\n",
    "    rename_md_to_txt(directory_to_scan)\n",
    "    \n",
    "    print(\"All .md files have been renamed to .txt\")\n"
   ]
  },
  {
   "cell_type": "markdown",
   "metadata": {},
   "source": [
    "# txt to md"
   ]
  },
  {
   "cell_type": "code",
   "execution_count": 1,
   "metadata": {},
   "outputs": [
    {
     "name": "stdout",
     "output_type": "stream",
     "text": [
      "Renamed: ./public/md/sample4.txt -> ./public/md/sample4.md\n",
      "Renamed: ./public/md/sample2.txt -> ./public/md/sample2.md\n",
      "Renamed: ./public/md/test/sample1.txt -> ./public/md/test/sample1.md\n",
      "Renamed: ./public/md/test/sample3.txt -> ./public/md/test/sample3.md\n",
      "Renamed: ./public/md/test/sample5.txt -> ./public/md/test/sample5.md\n",
      "Renamed: ./public/md/test/test2/sample7.txt -> ./public/md/test/test2/sample7.md\n",
      "Renamed: ./public/md/test/test2/test3/sample8.txt -> ./public/md/test/test2/test3/sample8.md\n",
      "Renamed: ./public/md/test/test2/test3/test4/sample9.txt -> ./public/md/test/test2/test3/test4/sample9.md\n",
      "All .txt files have been renamed to .md\n"
     ]
    }
   ],
   "source": [
    "import os\n",
    "\n",
    "def rename_txt_to_md(directory):\n",
    "    # ディレクトリ内のファイルとサブディレクトリを再帰的に処理\n",
    "    for root, dirs, files in os.walk(directory):\n",
    "        for file in files:\n",
    "            # ファイルが .txt で終わる場合\n",
    "            if file.endswith(\".txt\"):\n",
    "                txt_file_path = os.path.join(root, file)\n",
    "                md_file_path = os.path.join(root, file[:-4] + \".md\")  # 拡張子を .md に変更\n",
    "                os.rename(txt_file_path, md_file_path)  # ファイル名を変更\n",
    "                print(f\"Renamed: {txt_file_path} -> {md_file_path}\")\n",
    "\n",
    "if __name__ == \"__main__\":\n",
    "    # 処理したいディレクトリのパス\n",
    "    directory_to_scan = \"./public/md/\"\n",
    "    \n",
    "    # .txt ファイルを .md にリネーム\n",
    "    rename_txt_to_md(directory_to_scan)\n",
    "    \n",
    "    print(\"All .txt files have been renamed to .md\")\n"
   ]
  },
  {
   "cell_type": "markdown",
   "metadata": {},
   "source": [
    "# txt to mdx"
   ]
  },
  {
   "cell_type": "code",
   "execution_count": 2,
   "metadata": {},
   "outputs": [
    {
     "name": "stdout",
     "output_type": "stream",
     "text": [
      "Renamed: ./public/md/sample4.txt -> ./public/md/sample4.mdx\n",
      "Renamed: ./public/md/sample2.txt -> ./public/md/sample2.mdx\n",
      "Renamed: ./public/md/test/sample1.txt -> ./public/md/test/sample1.mdx\n",
      "Renamed: ./public/md/test/sample3.txt -> ./public/md/test/sample3.mdx\n",
      "Renamed: ./public/md/test/sample5.txt -> ./public/md/test/sample5.mdx\n",
      "Renamed: ./public/md/test/test2/sample7.txt -> ./public/md/test/test2/sample7.mdx\n",
      "Renamed: ./public/md/test/test2/test3/sample8.txt -> ./public/md/test/test2/test3/sample8.mdx\n",
      "Renamed: ./public/md/test/test2/test3/test4/sample9.txt -> ./public/md/test/test2/test3/test4/sample9.mdx\n",
      "All .txt files have been renamed to .md\n"
     ]
    }
   ],
   "source": [
    "import os\n",
    "\n",
    "def rename_txt_to_md(directory):\n",
    "    # ディレクトリ内のファイルとサブディレクトリを再帰的に処理\n",
    "    for root, dirs, files in os.walk(directory):\n",
    "        for file in files:\n",
    "            # ファイルが .txt で終わる場合\n",
    "            if file.endswith(\".txt\"):\n",
    "                txt_file_path = os.path.join(root, file)\n",
    "                md_file_path = os.path.join(root, file[:-4] + \".mdx\")  # 拡張子を .mdx に変更\n",
    "                os.rename(txt_file_path, md_file_path)  # ファイル名を変更\n",
    "                print(f\"Renamed: {txt_file_path} -> {md_file_path}\")\n",
    "\n",
    "if __name__ == \"__main__\":\n",
    "    # 処理したいディレクトリのパス\n",
    "    directory_to_scan = \"./public/md/\"\n",
    "    \n",
    "    # .txt ファイルを .md にリネーム\n",
    "    rename_txt_to_md(directory_to_scan)\n",
    "    \n",
    "    print(\"All .txt files have been renamed to .md\")\n"
   ]
  },
  {
   "cell_type": "markdown",
   "metadata": {},
   "source": [
    "# mdx to txt"
   ]
  },
  {
   "cell_type": "code",
   "execution_count": 1,
   "metadata": {},
   "outputs": [
    {
     "name": "stdout",
     "output_type": "stream",
     "text": [
      "Renamed: ./public/md/sample2.mdx -> ./public/md/sample2.txt\n",
      "Renamed: ./public/md/sample4.mdx -> ./public/md/sample4.txt\n",
      "Renamed: ./public/md/test/sample3.mdx -> ./public/md/test/sample3.txt\n",
      "Renamed: ./public/md/test/sample1.mdx -> ./public/md/test/sample1.txt\n",
      "Renamed: ./public/md/test/sample5.mdx -> ./public/md/test/sample5.txt\n",
      "Renamed: ./public/md/test/test2/sample7.mdx -> ./public/md/test/test2/sample7.txt\n",
      "Renamed: ./public/md/test/test2/test3/sample8.mdx -> ./public/md/test/test2/test3/sample8.txt\n",
      "Renamed: ./public/md/test/test2/test3/test4/sample9.mdx -> ./public/md/test/test2/test3/test4/sample9.txt\n",
      "All .txt files have been renamed to .md\n"
     ]
    }
   ],
   "source": [
    "import os\n",
    "\n",
    "def rename_txt_to_md(directory):\n",
    "    # ディレクトリ内のファイルとサブディレクトリを再帰的に処理\n",
    "    for root, dirs, files in os.walk(directory):\n",
    "        for file in files:\n",
    "            # ファイルが .txt で終わる場合\n",
    "            if file.endswith(\".mdx\"):\n",
    "                txt_file_path = os.path.join(root, file)\n",
    "                md_file_path = os.path.join(root, file[:-4] + \".txt\")  # 拡張子を .md に変更\n",
    "                os.rename(txt_file_path, md_file_path)  # ファイル名を変更\n",
    "                print(f\"Renamed: {txt_file_path} -> {md_file_path}\")\n",
    "\n",
    "if __name__ == \"__main__\":\n",
    "    # 処理したいディレクトリのパス\n",
    "    directory_to_scan = \"./public/md/\"\n",
    "    \n",
    "    # .txt ファイルを .md にリネーム\n",
    "    rename_txt_to_md(directory_to_scan)\n",
    "    \n",
    "    print(\"All .txt files have been renamed to .md\")\n"
   ]
  },
  {
   "cell_type": "code",
   "execution_count": null,
   "metadata": {},
   "outputs": [],
   "source": []
  }
 ],
 "metadata": {
  "kernelspec": {
   "display_name": "3.11.8",
   "language": "python",
   "name": "python3"
  },
  "language_info": {
   "codemirror_mode": {
    "name": "ipython",
    "version": 3
   },
   "file_extension": ".py",
   "mimetype": "text/x-python",
   "name": "python",
   "nbconvert_exporter": "python",
   "pygments_lexer": "ipython3",
   "version": "3.11.8"
  }
 },
 "nbformat": 4,
 "nbformat_minor": 2
}
