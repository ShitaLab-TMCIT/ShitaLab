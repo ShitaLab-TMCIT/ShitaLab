{
 "cells": [
  {
   "cell_type": "markdown",
   "metadata": {},
   "source": [
    "# md to txt"
   ]
  },
  {
   "cell_type": "code",
   "execution_count": 1,
   "metadata": {},
   "outputs": [
    {
     "name": "stdout",
     "output_type": "stream",
     "text": [
      "Renamed: ./public/md/sample2.md -> ./public/md/sample2.txt\n",
      "Renamed: ./public/md/sample4.md -> ./public/md/sample4.txt\n",
      "Renamed: ./public/md/test/sample5.md -> ./public/md/test/sample5.txt\n",
      "Renamed: ./public/md/test/sample1.md -> ./public/md/test/sample1.txt\n",
      "Renamed: ./public/md/test/sample3.md -> ./public/md/test/sample3.txt\n",
      "Renamed: ./public/md/test/test2/sample7.md -> ./public/md/test/test2/sample7.txt\n",
      "Renamed: ./public/md/test/test2/test3/sample8.md -> ./public/md/test/test2/test3/sample8.txt\n",
      "Renamed: ./public/md/test/test2/test3/test4/sample9.md -> ./public/md/test/test2/test3/test4/sample9.txt\n",
      "All .md files have been renamed to .txt\n"
     ]
    }
   ],
   "source": [
    "import os\n",
    "\n",
    "def rename_md_to_txt(directory):\n",
    "    # ディレクトリ内のファイルとサブディレクトリを再帰的に処理\n",
    "    for root, dirs, files in os.walk(directory):\n",
    "        for file in files:\n",
    "            # ファイルが .md で終わる場合\n",
    "            if file.endswith(\".md\"):\n",
    "                md_file_path = os.path.join(root, file)\n",
    "                txt_file_path = os.path.join(root, file[:-3] + \".txt\")  # 拡張子を .txt に変更\n",
    "                os.rename(md_file_path, txt_file_path)  # ファイル名を変更\n",
    "                print(f\"Renamed: {md_file_path} -> {txt_file_path}\")\n",
    "\n",
    "if __name__ == \"__main__\":\n",
    "    # 処理したいディレクトリのパス\n",
    "    directory_to_scan = \"./public/md/\"\n",
    "    \n",
    "    # .md ファイルを .txt にリネーム\n",
    "    rename_md_to_txt(directory_to_scan)\n",
    "    \n",
    "    print(\"All .md files have been renamed to .txt\")\n"
   ]
  },
  {
   "cell_type": "markdown",
   "metadata": {},
   "source": [
    "# txt to md"
   ]
  },
  {
   "cell_type": "code",
   "execution_count": 3,
   "metadata": {},
   "outputs": [
    {
     "name": "stdout",
     "output_type": "stream",
     "text": [
      "Renamed: ./public/md/sample4.txt -> ./public/md/sample4.md\n",
      "Renamed: ./public/md/sample2.txt -> ./public/md/sample2.md\n",
      "Renamed: ./public/md/test/sample1.txt -> ./public/md/test/sample1.md\n",
      "Renamed: ./public/md/test/sample3.txt -> ./public/md/test/sample3.md\n",
      "Renamed: ./public/md/test/sample5.txt -> ./public/md/test/sample5.md\n",
      "Renamed: ./public/md/test/test2/sample7.txt -> ./public/md/test/test2/sample7.md\n",
      "Renamed: ./public/md/test/test2/test3/sample8.txt -> ./public/md/test/test2/test3/sample8.md\n",
      "Renamed: ./public/md/test/test2/test3/test4/sample9.txt -> ./public/md/test/test2/test3/test4/sample9.md\n",
      "All .txt files have been renamed to .md\n"
     ]
    }
   ],
   "source": [
    "import os\n",
    "\n",
    "def rename_txt_to_md(directory):\n",
    "    # ディレクトリ内のファイルとサブディレクトリを再帰的に処理\n",
    "    for root, dirs, files in os.walk(directory):\n",
    "        for file in files:\n",
    "            # ファイルが .txt で終わる場合\n",
    "            if file.endswith(\".txt\"):\n",
    "                txt_file_path = os.path.join(root, file)\n",
    "                md_file_path = os.path.join(root, file[:-4] + \".md\")  # 拡張子を .md に変更\n",
    "                os.rename(txt_file_path, md_file_path)  # ファイル名を変更\n",
    "                print(f\"Renamed: {txt_file_path} -> {md_file_path}\")\n",
    "\n",
    "if __name__ == \"__main__\":\n",
    "    # 処理したいディレクトリのパス\n",
    "    directory_to_scan = \"./public/md/\"\n",
    "    \n",
    "    # .txt ファイルを .md にリネーム\n",
    "    rename_txt_to_md(directory_to_scan)\n",
    "    \n",
    "    print(\"All .txt files have been renamed to .md\")\n"
   ]
  },
  {
   "cell_type": "markdown",
   "metadata": {},
   "source": [
    "# txt to mdx"
   ]
  },
  {
   "cell_type": "code",
   "execution_count": 2,
   "metadata": {},
   "outputs": [
    {
     "name": "stdout",
     "output_type": "stream",
     "text": [
      "Renamed: ./public/md/sample4.txt -> ./public/md/sample4.mdx\n",
      "Renamed: ./public/md/sample2.txt -> ./public/md/sample2.mdx\n",
      "Renamed: ./public/md/test/sample1.txt -> ./public/md/test/sample1.mdx\n",
      "Renamed: ./public/md/test/sample3.txt -> ./public/md/test/sample3.mdx\n",
      "Renamed: ./public/md/test/sample5.txt -> ./public/md/test/sample5.mdx\n",
      "Renamed: ./public/md/test/test2/sample7.txt -> ./public/md/test/test2/sample7.mdx\n",
      "Renamed: ./public/md/test/test2/test3/sample8.txt -> ./public/md/test/test2/test3/sample8.mdx\n",
      "Renamed: ./public/md/test/test2/test3/test4/sample9.txt -> ./public/md/test/test2/test3/test4/sample9.mdx\n",
      "All .txt files have been renamed to .md\n"
     ]
    }
   ],
   "source": [
    "import os\n",
    "\n",
    "def rename_txt_to_md(directory):\n",
    "    # ディレクトリ内のファイルとサブディレクトリを再帰的に処理\n",
    "    for root, dirs, files in os.walk(directory):\n",
    "        for file in files:\n",
    "            # ファイルが .txt で終わる場合\n",
    "            if file.endswith(\".txt\"):\n",
    "                txt_file_path = os.path.join(root, file)\n",
    "                md_file_path = os.path.join(root, file[:-4] + \".mdx\")  # 拡張子を .mdx に変更\n",
    "                os.rename(txt_file_path, md_file_path)  # ファイル名を変更\n",
    "                print(f\"Renamed: {txt_file_path} -> {md_file_path}\")\n",
    "\n",
    "if __name__ == \"__main__\":\n",
    "    # 処理したいディレクトリのパス\n",
    "    directory_to_scan = \"./public/md/\"\n",
    "    \n",
    "    # .txt ファイルを .md にリネーム\n",
    "    rename_txt_to_md(directory_to_scan)\n",
    "    \n",
    "    print(\"All .txt files have been renamed to .md\")\n"
   ]
  },
  {
   "cell_type": "markdown",
   "metadata": {},
   "source": [
    "# mdx to txt"
   ]
  },
  {
   "cell_type": "code",
   "execution_count": 1,
   "metadata": {},
   "outputs": [
    {
     "name": "stdout",
     "output_type": "stream",
     "text": [
      "Renamed: ./public/md/sample2.mdx -> ./public/md/sample2.txt\n",
      "Renamed: ./public/md/sample4.mdx -> ./public/md/sample4.txt\n",
      "Renamed: ./public/md/test/sample3.mdx -> ./public/md/test/sample3.txt\n",
      "Renamed: ./public/md/test/sample1.mdx -> ./public/md/test/sample1.txt\n",
      "Renamed: ./public/md/test/sample5.mdx -> ./public/md/test/sample5.txt\n",
      "Renamed: ./public/md/test/test2/sample7.mdx -> ./public/md/test/test2/sample7.txt\n",
      "Renamed: ./public/md/test/test2/test3/sample8.mdx -> ./public/md/test/test2/test3/sample8.txt\n",
      "Renamed: ./public/md/test/test2/test3/test4/sample9.mdx -> ./public/md/test/test2/test3/test4/sample9.txt\n",
      "All .txt files have been renamed to .md\n"
     ]
    }
   ],
   "source": [
    "import os\n",
    "\n",
    "def rename_txt_to_md(directory):\n",
    "    # ディレクトリ内のファイルとサブディレクトリを再帰的に処理\n",
    "    for root, dirs, files in os.walk(directory):\n",
    "        for file in files:\n",
    "            # ファイルが .txt で終わる場合\n",
    "            if file.endswith(\".mdx\"):\n",
    "                txt_file_path = os.path.join(root, file)\n",
    "                md_file_path = os.path.join(root, file[:-4] + \".txt\")  # 拡張子を .md に変更\n",
    "                os.rename(txt_file_path, md_file_path)  # ファイル名を変更\n",
    "                print(f\"Renamed: {txt_file_path} -> {md_file_path}\")\n",
    "\n",
    "if __name__ == \"__main__\":\n",
    "    # 処理したいディレクトリのパス\n",
    "    directory_to_scan = \"./public/md/\"\n",
    "    \n",
    "    # .txt ファイルを .md にリネーム\n",
    "    rename_txt_to_md(directory_to_scan)\n",
    "    \n",
    "    print(\"All .txt files have been renamed to .md\")\n"
   ]
  },
  {
   "cell_type": "code",
   "execution_count": null,
   "metadata": {},
   "outputs": [],
   "source": [
    "import os\n",
    "import json\n",
    "from datetime import datetime\n",
    "\n",
    "def get_file_timestamp(path):\n",
    "    timestamp = os.path.getmtime(path)\n",
    "    return datetime.fromtimestamp(timestamp).strftime('%Y-%m-%d %H:%M:%S')\n",
    "\n",
    "def remove_extension(file_name):\n",
    "    return os.path.splitext(file_name)[0]\n",
    "\n",
    "def dir_to_dict(path):\n",
    "    # ディレクトリ構造用の辞書とファイル構造用の辞書を分けて用意\n",
    "    dir_structure = {}\n",
    "    file_structure = {}\n",
    "\n",
    "    with os.scandir(path) as it:\n",
    "        dirs = [entry for entry in it if entry.is_dir() and entry.name != 'assets']\n",
    "        files = [entry for entry in os.scandir(path) if entry.is_file() and entry.name.endswith('.md')]\n",
    "    \n",
    "    # ディレクトリを先に処理して構造を再帰的に追加\n",
    "    for directory in sorted(dirs, key=lambda e: os.path.getmtime(e.path), reverse=True):\n",
    "        dir_structure[directory.name] = dir_to_dict(directory.path)\n",
    "\n",
    "    # ファイルを後に処理し、ファイル構造にタイムスタンプを保存\n",
    "    for file in sorted(files, key=lambda e: os.path.getmtime(e.path), reverse=True):\n",
    "        file_name_without_extension = remove_extension(file.name)\n",
    "        file_structure[file_name_without_extension] = get_file_timestamp(file.path)\n",
    "\n",
    "    # ディレクトリ構造とファイル構造を結合して一つの辞書として返す\n",
    "    return {**dir_structure, **file_structure}\n",
    "\n",
    "def save_structure_to_json(structure, output_file):\n",
    "    with open(output_file, 'w', encoding='utf-8') as f:\n",
    "        json.dump(structure, f, ensure_ascii=False, indent=4)\n",
    "\n",
    "if __name__ == \"__main__\":\n",
    "    directory_to_scan = \"./public/md/\"\n",
    "    output_json_file = \"./public/file_path.json\"\n",
    "    \n",
    "    # ディレクトリとファイルの構造を取得\n",
    "    directory_structure = dir_to_dict(directory_to_scan)\n",
    "    \n",
    "    # JSONファイルに保存\n",
    "    save_structure_to_json(directory_structure, output_json_file)\n",
    "    \n",
    "    print(directory_structure)\n",
    "    print(f\"saved '{output_json_file}'\")\n"
   ]
  },
  {
   "cell_type": "code",
   "execution_count": 21,
   "metadata": {},
   "outputs": [],
   "source": [
    "import os\n",
    "import json\n",
    "from datetime import datetime\n",
    "from zoneinfo import ZoneInfo\n",
    "\n",
    "def get_file_timestamp(path):\n",
    "    timestamp = os.path.getmtime(path)\n",
    "    # return datetime.now(ZoneInfo('Asia/Tokyo')).strftime('%Y-%m-%d %H:%M:%S') \n",
    "    return datetime.fromtimestamp(timestamp).strftime('%Y-%m-%d %H:%M:%S')\n",
    "\n",
    "def remove_extension(file_name):\n",
    "    return os.path.splitext(file_name)[0]\n",
    "\n",
    "def save_structure_to_json(structure, output_file):\n",
    "    with open(output_file, 'w', encoding='utf-8') as f:\n",
    "        json.dump(structure, f, ensure_ascii=False, indent=4)"
   ]
  },
  {
   "cell_type": "code",
   "execution_count": 22,
   "metadata": {},
   "outputs": [],
   "source": [
    "def dir_to_dict(path):\n",
    "    dir_structure = {}\n",
    "    file_structure = {}\n",
    "    output_structure = []\n",
    "    \n",
    "    with os.scandir(path) as it:\n",
    "        dirs = [entry for entry in  it if entry.is_dir() and entry.name != 'assets']\n",
    "        files = [entry for entry in os.scandir(path) if entry.is_file() and entry.name.endswith('.md')]\n",
    "    \n",
    "    for directory in sorted(dirs, key=lambda e: os.path.getmtime(e.path), reverse=True):\n",
    "        dir_structure[directory.name] = dir_to_dict(directory.path)\n",
    "    \n",
    "    for file in sorted(files, key=lambda e: os.path.getmtime(e.path), reverse=True):\n",
    "        file_name_without_extension = remove_extension(file.name)\n",
    "        file_structure[file_name_without_extension] = get_file_timestamp(file.path)\n",
    "    \n",
    "    output_structure.append(dir_structure)\n",
    "    output_structure.append(file_structure)\n",
    "    \n",
    "    # output_structure.update(dir_structure)\n",
    "    # output_structure.update(file_structure)\n",
    "    \n",
    "    # print(dir_structure)\n",
    "    # print(file_structure)\n",
    "    print(output_structure)\n",
    "    \n",
    "    return output_structure"
   ]
  },
  {
   "cell_type": "code",
   "execution_count": 23,
   "metadata": {},
   "outputs": [
    {
     "name": "stdout",
     "output_type": "stream",
     "text": [
      "[{}, {}]\n",
      "[{}, {}]\n",
      "[{'Windows側初期設定': [{}, {}]}, {'Windows側初期設定': '2024-10-31 18:11:19'}]\n",
      "[{}, {'sample9': '2024-10-25 16:08:57'}]\n",
      "[{'test4': [{}, {'sample9': '2024-10-25 16:08:57'}]}, {'sample8': '2024-10-25 16:08:57'}]\n",
      "[{'test3': [{'test4': [{}, {'sample9': '2024-10-25 16:08:57'}]}, {'sample8': '2024-10-25 16:08:57'}]}, {'sample7': '2024-10-25 16:08:57'}]\n",
      "[{'test2': [{'test3': [{'test4': [{}, {'sample9': '2024-10-25 16:08:57'}]}, {'sample8': '2024-10-25 16:08:57'}]}, {'sample7': '2024-10-25 16:08:57'}]}, {'sample5': '2024-10-25 16:08:57', 'sample1': '2024-10-25 16:08:57', 'sample3': '2024-10-25 16:08:57'}]\n",
      "[{'仕様書': [{}, {}], 'WSL': [{'Windows側初期設定': [{}, {}]}, {'Windows側初期設定': '2024-10-31 18:11:19'}], 'test': [{'test2': [{'test3': [{'test4': [{}, {'sample9': '2024-10-25 16:08:57'}]}, {'sample8': '2024-10-25 16:08:57'}]}, {'sample7': '2024-10-25 16:08:57'}]}, {'sample5': '2024-10-25 16:08:57', 'sample1': '2024-10-25 16:08:57', 'sample3': '2024-10-25 16:08:57'}]}, {'順番テスト': '2024-11-06 09:02:31', '仕様書': '2024-10-31 13:08:18'}]\n"
     ]
    }
   ],
   "source": [
    "if __name__ == '__main__':\n",
    "    directory_to_scan = \"./public/md/\"\n",
    "    output_json_file = \"./public/file_path.json\"\n",
    "    \n",
    "    directory_structure = dir_to_dict(directory_to_scan)\n",
    "    \n",
    "    save_structure_to_json(directory_structure, output_json_file)\n",
    "    "
   ]
  },
  {
   "cell_type": "code",
   "execution_count": 94,
   "metadata": {},
   "outputs": [
    {
     "name": "stdout",
     "output_type": "stream",
     "text": [
      "{\n",
      "    \"WSL\": {\n",
      "        \"Windows\\u5074\\u521d\\u671f\\u8a2d\\u5b9a\": \"2024-10-31 18:11:19\"\n",
      "    },\n",
      "    \"test\": {\n",
      "        \"test2\": {\n",
      "            \"test3\": {\n",
      "                \"test4\": {\n",
      "                    \"sample9\": \"2024-10-25 16:08:57\"\n",
      "                },\n",
      "                \"sample8\": \"2024-10-25 16:08:57\"\n",
      "            },\n",
      "            \"sample7\": \"2024-10-25 16:08:57\"\n",
      "        },\n",
      "        \"sample5\": \"2024-10-25 16:08:57\",\n",
      "        \"sample1\": \"2024-10-25 16:08:57\",\n",
      "        \"sample3\": \"2024-10-25 16:08:57\"\n",
      "    },\n",
      "    \"\\u4ed5\\u69d8\\u66f8\": \"2024-11-06 15:08:54\",\n",
      "    \"\\u9806\\u756a\\u30c6\\u30b9\\u30c8\": \"2024-11-06 09:02:31\"\n",
      "}\n"
     ]
    }
   ],
   "source": [
    "from collections import defaultdict\n",
    "from pathlib import Path\n",
    "\n",
    "def update(d:dict, u:dict):\n",
    "    \"\"\"再帰dictをupdateするヤツ\"\"\"\n",
    "    for k, v in u.items():\n",
    "        if isinstance(v, dict):\n",
    "            d[k] = update(d.get(k, {}), v)\n",
    "        else:\n",
    "            d[k] = v\n",
    "    return d\n",
    "\n",
    "def set_recursive_dir(dirs:list[str], value:dict):\n",
    "    \"\"\"再帰dictにvalue入れるヤツ\"\"\"\n",
    "    structure=defaultdict(dict)\n",
    "    _structure = structure\n",
    "    for dir in dirs:\n",
    "        _structure[dir] = _structure.get(dir, defaultdict(dict))\n",
    "        _structure = _structure[dir]\n",
    "    _structure.update(value)\n",
    "    return structure\n",
    "\n",
    "def top_dict(d:dict):\n",
    "    \"\"\"dictを上にもってくヤツ\"\"\"\n",
    "    result={}\n",
    "    queue = {}\n",
    "    for k, v in d.items():\n",
    "        if isinstance(v, dict):\n",
    "            result[k] = top_dict(v)\n",
    "        else:\n",
    "            queue[k] = v\n",
    "    result.update(queue)\n",
    "    return result\n",
    "\n",
    "\n",
    "directory_to_scan = \"./public/md/\"\n",
    "output_json_file = \"./public/file_path.json\"\n",
    "\n",
    "root = Path(directory_to_scan)\n",
    "directory_structure = {}\n",
    "\n",
    "md_files = sorted(root.glob('**/*.md'), key=lambda e: os.path.getmtime(e), reverse=True)\n",
    "\n",
    "for file in md_files:\n",
    "    parts = file.relative_to(root).parts[:-1]\n",
    "    structure_dict=set_recursive_dir(parts, {file.stem:get_file_timestamp(file)})\n",
    "    directory_structure=update(directory_structure, structure_dict)\n",
    "print(json.dumps(top_dict(directory_structure), indent=4))\n",
    "\n"
   ]
  },
  {
   "cell_type": "code",
   "execution_count": null,
   "metadata": {},
   "outputs": [],
   "source": []
  }
 ],
 "metadata": {
  "kernelspec": {
   "display_name": "ShitaLab-Kriu7b-I",
   "language": "python",
   "name": "python3"
  },
  "language_info": {
   "codemirror_mode": {
    "name": "ipython",
    "version": 3
   },
   "file_extension": ".py",
   "mimetype": "text/x-python",
   "name": "python",
   "nbconvert_exporter": "python",
   "pygments_lexer": "ipython3",
   "version": "3.11.10"
  }
 },
 "nbformat": 4,
 "nbformat_minor": 2
}
